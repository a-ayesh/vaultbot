{
 "cells": [
  {
   "cell_type": "markdown",
   "metadata": {},
   "source": [
    "# 🚀 Repository Setup Guide\n",
    "\n",
    "**Purpose:** Set up and run the server using the backend/start.sh script\n",
    "\n",
    "---\n",
    "\n",
    "## Quick Start\n",
    "\n",
    "1. Build the frontend\n",
    "```bash\n",
    "npm install\n",
    "npm run build\n",
    "```\n",
    "\n",
    "2. Install the python backend dependencies at `backend/requirements.txt`\n",
    "```bash\n",
    "pip install uv\n",
    "uv sync\n",
    "```\n",
    "\n",
    "3. Run the setup script\n",
    "```bash\n",
    "./backend/start.sh\n",
    "```\n",
    "\n",
    "---\n",
    "\n",
    "**Note:** The start.sh script will:\n",
    "- Set up Python virtual environment\n",
    "- Install dependencies\n",
    "- Configure environment variables\n",
    "- Start required services\n",
    "\n",
    "**Troubleshooting:**\n",
    "- Ensure you have Python 3.12+ installed\n",
    "- Check file permissions if script fails to execute\n",
    "- Verify all required environment variables are set\n",
    "\n",
    "**Docker Note:** Docker setup is not recommended at this time due to long build times and performance overhead.\n",
    "\n",
    "**Authors:**\n",
    "- Ayesh Ahmad (365966)\n",
    "- Farooq Afzal (365793)\n",
    "- Muhammad Faras Siddiqui (365988)\n",
    "\n",
    "**Last Updated:** May 4, 2025\n",
    "**Version:** 1.0"
   ]
  },
  {
   "cell_type": "markdown",
   "metadata": {},
   "source": []
  }
 ],
 "metadata": {
  "language_info": {
   "name": "python"
  }
 },
 "nbformat": 4,
 "nbformat_minor": 2
}
